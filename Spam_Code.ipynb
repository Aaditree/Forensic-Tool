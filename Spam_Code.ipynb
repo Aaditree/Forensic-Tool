{
  "nbformat": 4,
  "nbformat_minor": 0,
  "metadata": {
    "colab": {
      "name": "Spam Code",
      "provenance": [],
      "collapsed_sections": [],
      "authorship_tag": "ABX9TyMqcxgyH0Vx0NFI6aQ5Ux6T",
      "include_colab_link": true
    },
    "kernelspec": {
      "name": "python3",
      "display_name": "Python 3"
    },
    "language_info": {
      "name": "python"
    }
  },
  "cells": [
    {
      "cell_type": "markdown",
      "metadata": {
        "id": "view-in-github",
        "colab_type": "text"
      },
      "source": [
        "<a href=\"https://colab.research.google.com/github/Aaditree/Forensic-Tool/blob/main/Spam_Code.ipynb\" target=\"_parent\"><img src=\"https://colab.research.google.com/assets/colab-badge.svg\" alt=\"Open In Colab\"/></a>"
      ]
    },
    {
      "cell_type": "code",
      "metadata": {
        "id": "5hHyrl0QNI3t"
      },
      "source": [
        ""
      ],
      "execution_count": null,
      "outputs": []
    },
    {
      "cell_type": "code",
      "metadata": {
        "colab": {
          "base_uri": "https://localhost:8080/"
        },
        "id": "XS-qWghU6MXe",
        "outputId": "789544a0-1c79-497e-8998-8b80028d3113"
      },
      "source": [
        "!pip install scikit-learn==0.22.2.post1 #python 3\n"
      ],
      "execution_count": null,
      "outputs": [
        {
          "output_type": "stream",
          "text": [
            "Requirement already satisfied: scikit-learn==0.22.2.post1 in /usr/local/lib/python3.7/dist-packages (0.22.2.post1)\n",
            "Requirement already satisfied: joblib>=0.11 in /usr/local/lib/python3.7/dist-packages (from scikit-learn==0.22.2.post1) (1.0.1)\n",
            "Requirement already satisfied: scipy>=0.17.0 in /usr/local/lib/python3.7/dist-packages (from scikit-learn==0.22.2.post1) (1.4.1)\n",
            "Requirement already satisfied: numpy>=1.11.0 in /usr/local/lib/python3.7/dist-packages (from scikit-learn==0.22.2.post1) (1.19.5)\n"
          ],
          "name": "stdout"
        }
      ]
    },
    {
      "cell_type": "code",
      "metadata": {
        "colab": {
          "base_uri": "https://localhost:8080/"
        },
        "id": "HpYwbf0R5ZVa",
        "outputId": "b3322d99-653d-4d78-cd09-2737f7e015c4"
      },
      "source": [
        "import pickle \n",
        "print(pickle.format_version)\n"
      ],
      "execution_count": 1,
      "outputs": [
        {
          "output_type": "stream",
          "text": [
            "4.0\n"
          ],
          "name": "stdout"
        }
      ]
    },
    {
      "cell_type": "code",
      "metadata": {
        "colab": {
          "base_uri": "https://localhost:8080/",
          "height": 204
        },
        "id": "91c9WIfBlNKO",
        "outputId": "8d7e5366-20a3-4096-df11-23747ecbb2fd"
      },
      "source": [
        "import pandas as pd\n",
        "\n",
        "data = pd.read_csv('/content/data.csv')\n",
        "data.head(5)"
      ],
      "execution_count": 2,
      "outputs": [
        {
          "output_type": "execute_result",
          "data": {
            "text/html": [
              "<div>\n",
              "<style scoped>\n",
              "    .dataframe tbody tr th:only-of-type {\n",
              "        vertical-align: middle;\n",
              "    }\n",
              "\n",
              "    .dataframe tbody tr th {\n",
              "        vertical-align: top;\n",
              "    }\n",
              "\n",
              "    .dataframe thead th {\n",
              "        text-align: right;\n",
              "    }\n",
              "</style>\n",
              "<table border=\"1\" class=\"dataframe\">\n",
              "  <thead>\n",
              "    <tr style=\"text-align: right;\">\n",
              "      <th></th>\n",
              "      <th>Unnamed: 0</th>\n",
              "      <th>class</th>\n",
              "      <th>message</th>\n",
              "    </tr>\n",
              "  </thead>\n",
              "  <tbody>\n",
              "    <tr>\n",
              "      <th>0</th>\n",
              "      <td>0</td>\n",
              "      <td>1.0</td>\n",
              "      <td>Subject: naturally irresistible your corporate...</td>\n",
              "    </tr>\n",
              "    <tr>\n",
              "      <th>1</th>\n",
              "      <td>1</td>\n",
              "      <td>1.0</td>\n",
              "      <td>Subject: the stock trading gunslinger  fanny i...</td>\n",
              "    </tr>\n",
              "    <tr>\n",
              "      <th>2</th>\n",
              "      <td>2</td>\n",
              "      <td>1.0</td>\n",
              "      <td>Subject: unbelievable new homes made easy  im ...</td>\n",
              "    </tr>\n",
              "    <tr>\n",
              "      <th>3</th>\n",
              "      <td>3</td>\n",
              "      <td>1.0</td>\n",
              "      <td>Subject: 4 color printing special  request add...</td>\n",
              "    </tr>\n",
              "    <tr>\n",
              "      <th>4</th>\n",
              "      <td>4</td>\n",
              "      <td>1.0</td>\n",
              "      <td>Subject: do not have money , get software cds ...</td>\n",
              "    </tr>\n",
              "  </tbody>\n",
              "</table>\n",
              "</div>"
            ],
            "text/plain": [
              "   Unnamed: 0  class                                            message\n",
              "0           0    1.0  Subject: naturally irresistible your corporate...\n",
              "1           1    1.0  Subject: the stock trading gunslinger  fanny i...\n",
              "2           2    1.0  Subject: unbelievable new homes made easy  im ...\n",
              "3           3    1.0  Subject: 4 color printing special  request add...\n",
              "4           4    1.0  Subject: do not have money , get software cds ..."
            ]
          },
          "metadata": {
            "tags": []
          },
          "execution_count": 2
        }
      ]
    },
    {
      "cell_type": "code",
      "metadata": {
        "id": "Jfr1UqSjmNKP"
      },
      "source": [
        "columns = ['class', 'message']\n",
        "data = pd.DataFrame(data, columns=columns)"
      ],
      "execution_count": 3,
      "outputs": []
    },
    {
      "cell_type": "code",
      "metadata": {
        "colab": {
          "base_uri": "https://localhost:8080/"
        },
        "id": "QW210D0nnS1n",
        "outputId": "a4ea0b52-3f8b-4a62-d069-be1f97cdbd9a"
      },
      "source": [
        "data.columns\n",
        "#data.drop(['Unnamed: 0'],axis=1,inplace=True)\n",
        "data.columns"
      ],
      "execution_count": 4,
      "outputs": [
        {
          "output_type": "execute_result",
          "data": {
            "text/plain": [
              "Index(['class', 'message'], dtype='object')"
            ]
          },
          "metadata": {
            "tags": []
          },
          "execution_count": 4
        }
      ]
    },
    {
      "cell_type": "code",
      "metadata": {
        "colab": {
          "base_uri": "https://localhost:8080/",
          "height": 204
        },
        "id": "vnbBukDVn3Yw",
        "outputId": "b95a571d-475c-4ab9-d139-5ed7a62e7ee2"
      },
      "source": [
        "data.head(5)"
      ],
      "execution_count": 5,
      "outputs": [
        {
          "output_type": "execute_result",
          "data": {
            "text/html": [
              "<div>\n",
              "<style scoped>\n",
              "    .dataframe tbody tr th:only-of-type {\n",
              "        vertical-align: middle;\n",
              "    }\n",
              "\n",
              "    .dataframe tbody tr th {\n",
              "        vertical-align: top;\n",
              "    }\n",
              "\n",
              "    .dataframe thead th {\n",
              "        text-align: right;\n",
              "    }\n",
              "</style>\n",
              "<table border=\"1\" class=\"dataframe\">\n",
              "  <thead>\n",
              "    <tr style=\"text-align: right;\">\n",
              "      <th></th>\n",
              "      <th>class</th>\n",
              "      <th>message</th>\n",
              "    </tr>\n",
              "  </thead>\n",
              "  <tbody>\n",
              "    <tr>\n",
              "      <th>0</th>\n",
              "      <td>1.0</td>\n",
              "      <td>Subject: naturally irresistible your corporate...</td>\n",
              "    </tr>\n",
              "    <tr>\n",
              "      <th>1</th>\n",
              "      <td>1.0</td>\n",
              "      <td>Subject: the stock trading gunslinger  fanny i...</td>\n",
              "    </tr>\n",
              "    <tr>\n",
              "      <th>2</th>\n",
              "      <td>1.0</td>\n",
              "      <td>Subject: unbelievable new homes made easy  im ...</td>\n",
              "    </tr>\n",
              "    <tr>\n",
              "      <th>3</th>\n",
              "      <td>1.0</td>\n",
              "      <td>Subject: 4 color printing special  request add...</td>\n",
              "    </tr>\n",
              "    <tr>\n",
              "      <th>4</th>\n",
              "      <td>1.0</td>\n",
              "      <td>Subject: do not have money , get software cds ...</td>\n",
              "    </tr>\n",
              "  </tbody>\n",
              "</table>\n",
              "</div>"
            ],
            "text/plain": [
              "   class                                            message\n",
              "0    1.0  Subject: naturally irresistible your corporate...\n",
              "1    1.0  Subject: the stock trading gunslinger  fanny i...\n",
              "2    1.0  Subject: unbelievable new homes made easy  im ...\n",
              "3    1.0  Subject: 4 color printing special  request add...\n",
              "4    1.0  Subject: do not have money , get software cds ..."
            ]
          },
          "metadata": {
            "tags": []
          },
          "execution_count": 5
        }
      ]
    },
    {
      "cell_type": "code",
      "metadata": {
        "id": "6lceVL6Sw9nE"
      },
      "source": [
        "data['class']=data['class'].map({'ham':0.0,'spam':1.0})"
      ],
      "execution_count": 6,
      "outputs": []
    },
    {
      "cell_type": "code",
      "metadata": {
        "colab": {
          "base_uri": "https://localhost:8080/",
          "height": 204
        },
        "id": "l4-HavrQxHkM",
        "outputId": "13a7a987-f402-4d86-d801-313506393746"
      },
      "source": [
        "data.head(5)"
      ],
      "execution_count": 7,
      "outputs": [
        {
          "output_type": "execute_result",
          "data": {
            "text/html": [
              "<div>\n",
              "<style scoped>\n",
              "    .dataframe tbody tr th:only-of-type {\n",
              "        vertical-align: middle;\n",
              "    }\n",
              "\n",
              "    .dataframe tbody tr th {\n",
              "        vertical-align: top;\n",
              "    }\n",
              "\n",
              "    .dataframe thead th {\n",
              "        text-align: right;\n",
              "    }\n",
              "</style>\n",
              "<table border=\"1\" class=\"dataframe\">\n",
              "  <thead>\n",
              "    <tr style=\"text-align: right;\">\n",
              "      <th></th>\n",
              "      <th>class</th>\n",
              "      <th>message</th>\n",
              "    </tr>\n",
              "  </thead>\n",
              "  <tbody>\n",
              "    <tr>\n",
              "      <th>0</th>\n",
              "      <td>NaN</td>\n",
              "      <td>Subject: naturally irresistible your corporate...</td>\n",
              "    </tr>\n",
              "    <tr>\n",
              "      <th>1</th>\n",
              "      <td>NaN</td>\n",
              "      <td>Subject: the stock trading gunslinger  fanny i...</td>\n",
              "    </tr>\n",
              "    <tr>\n",
              "      <th>2</th>\n",
              "      <td>NaN</td>\n",
              "      <td>Subject: unbelievable new homes made easy  im ...</td>\n",
              "    </tr>\n",
              "    <tr>\n",
              "      <th>3</th>\n",
              "      <td>NaN</td>\n",
              "      <td>Subject: 4 color printing special  request add...</td>\n",
              "    </tr>\n",
              "    <tr>\n",
              "      <th>4</th>\n",
              "      <td>NaN</td>\n",
              "      <td>Subject: do not have money , get software cds ...</td>\n",
              "    </tr>\n",
              "  </tbody>\n",
              "</table>\n",
              "</div>"
            ],
            "text/plain": [
              "   class                                            message\n",
              "0    NaN  Subject: naturally irresistible your corporate...\n",
              "1    NaN  Subject: the stock trading gunslinger  fanny i...\n",
              "2    NaN  Subject: unbelievable new homes made easy  im ...\n",
              "3    NaN  Subject: 4 color printing special  request add...\n",
              "4    NaN  Subject: do not have money , get software cds ..."
            ]
          },
          "metadata": {
            "tags": []
          },
          "execution_count": 7
        }
      ]
    },
    {
      "cell_type": "code",
      "metadata": {
        "colab": {
          "base_uri": "https://localhost:8080/"
        },
        "id": "E2gFSZaGsUpe",
        "outputId": "45067f0e-9414-4401-d349-a0955b49dfa2"
      },
      "source": [
        "data.shape"
      ],
      "execution_count": 6,
      "outputs": [
        {
          "output_type": "execute_result",
          "data": {
            "text/plain": [
              "(11298, 2)"
            ]
          },
          "metadata": {
            "tags": []
          },
          "execution_count": 6
        }
      ]
    },
    {
      "cell_type": "code",
      "metadata": {
        "colab": {
          "base_uri": "https://localhost:8080/"
        },
        "id": "gY095w6YrRr_",
        "outputId": "9ea8096f-dce9-4b9e-c33a-0d9678245172"
      },
      "source": [
        "data.isnull().sum().sum()\n"
      ],
      "execution_count": 7,
      "outputs": [
        {
          "output_type": "execute_result",
          "data": {
            "text/plain": [
              "0"
            ]
          },
          "metadata": {
            "tags": []
          },
          "execution_count": 7
        }
      ]
    },
    {
      "cell_type": "code",
      "metadata": {
        "id": "Ah9oP-OZs8Nu"
      },
      "source": [
        "data = data.dropna()\n",
        "data = data.reset_index(drop=True)"
      ],
      "execution_count": 8,
      "outputs": []
    },
    {
      "cell_type": "code",
      "metadata": {
        "colab": {
          "base_uri": "https://localhost:8080/"
        },
        "id": "mwhSB2Ccsa7t",
        "outputId": "c3517efe-ab0b-4b85-fb6e-6d016f6dc851"
      },
      "source": [
        "data.isnull().sum().sum()\n"
      ],
      "execution_count": 9,
      "outputs": [
        {
          "output_type": "execute_result",
          "data": {
            "text/plain": [
              "0"
            ]
          },
          "metadata": {
            "tags": []
          },
          "execution_count": 9
        }
      ]
    },
    {
      "cell_type": "code",
      "metadata": {
        "id": "GdxvoMrGO3OT"
      },
      "source": [
        "#random forest\n",
        "\n",
        "\n"
      ],
      "execution_count": null,
      "outputs": []
    },
    {
      "cell_type": "code",
      "metadata": {
        "colab": {
          "base_uri": "https://localhost:8080/"
        },
        "id": "_9wwLK4sho9u",
        "outputId": "8f88e8a6-ad48-4c38-a8ac-ee7d0e118954"
      },
      "source": [
        "from sklearn.model_selection import train_test_split\n",
        "from sklearn.ensemble import RandomForestClassifier\n",
        "from sklearn import metrics\n",
        "from sklearn import feature_extraction\n",
        "from sklearn.feature_extraction.text import CountVectorizer\n",
        "\n",
        "cv=CountVectorizer()\n",
        "\n",
        "y=data['class']\n",
        "y=y.astype('int')\n",
        "X= cv.fit_transform(data[\"message\"])\n",
        "\n",
        "X_train,X_test,y_train,y_test=train_test_split(X,y,test_size=0.2,random_state=42)\n",
        "\n",
        "model = RandomForestClassifier(n_estimators=150,max_depth=None,n_jobs=-1)\n",
        "\n",
        "model.fit(X_train, y_train)\n",
        "\n",
        "prediction = model.predict(X_test)\n",
        "\n",
        "print(\"Prediction: \",prediction)\n",
        "\n",
        "print(\"Accuracy: \",metrics.accuracy_score(y_test,prediction))"
      ],
      "execution_count": 10,
      "outputs": [
        {
          "output_type": "stream",
          "text": [
            "Prediction:  [0 0 0 ... 0 0 0]\n",
            "Accuracy:  0.9628318584070796\n"
          ],
          "name": "stdout"
        }
      ]
    },
    {
      "cell_type": "code",
      "metadata": {
        "id": "yJDb0OJGko1O"
      },
      "source": [
        "import pickle\n",
        "pickle.dump(model, open(\"spam.pkl\",\"wb\"))\n",
        "pickle.dump(cv, open(\"vectorizer.pkl\",\"wb\"))\n"
      ],
      "execution_count": 11,
      "outputs": []
    },
    {
      "cell_type": "code",
      "metadata": {
        "colab": {
          "base_uri": "https://localhost:8080/"
        },
        "id": "YcMdnAQe-0qL",
        "outputId": "337127b9-e720-4df0-fc23-2327a0d162fe"
      },
      "source": [
        "#Confusion matrix\n",
        "\n",
        "from sklearn.metrics import confusion_matrix\n",
        "matrix=confusion_matrix(y_test, prediction,labels=[1,0])\n",
        "cm=pd.DataFrame(matrix,index=['positive','negative'],columns=['positive','negative'])\n",
        "print(cm)"
      ],
      "execution_count": 16,
      "outputs": [
        {
          "output_type": "stream",
          "text": [
            "          positive  negative\n",
            "positive       346        84\n",
            "negative         0      1830\n"
          ],
          "name": "stdout"
        }
      ]
    },
    {
      "cell_type": "code",
      "metadata": {
        "colab": {
          "base_uri": "https://localhost:8080/"
        },
        "id": "HuVoe6dr_lRd",
        "outputId": "f346277f-4b9a-438c-8297-7457ca680193"
      },
      "source": [
        "#Calculate Accuracy\n",
        "from sklearn.metrics import accuracy_score\n",
        "acc = accuracy_score(y_test,prediction)\n",
        "print('Accuracy: ',acc)\n",
        "\n",
        "#Calculate Recall\n",
        "from sklearn.metrics import recall_score\n",
        "recall= recall_score(y_test, prediction)\n",
        "print('Recall: ',recall)\n",
        "\n",
        "#Calculate Precision\n",
        "from sklearn.metrics import precision_score\n",
        "precision= precision_score(y_test, prediction)\n",
        "print('Precision: ',precision)\n"
      ],
      "execution_count": 18,
      "outputs": [
        {
          "output_type": "stream",
          "text": [
            "Accuracy:  0.9628318584070796\n",
            "Recall:  0.8046511627906977\n",
            "Precision:  1.0\n"
          ],
          "name": "stdout"
        }
      ]
    },
    {
      "cell_type": "code",
      "metadata": {
        "colab": {
          "base_uri": "https://localhost:8080/"
        },
        "id": "7gBrcf-BAZ8w",
        "outputId": "bf0be930-5674-4730-d742-65bf2f11b177"
      },
      "source": [
        "#F1 Score\n",
        "from sklearn.metrics import f1_score\n",
        "f1score= f1_score(y_test,prediction)\n",
        "print(\"F1 Score: \",f1score)"
      ],
      "execution_count": 20,
      "outputs": [
        {
          "output_type": "stream",
          "text": [
            "F1 Score:  0.8917525773195877\n"
          ],
          "name": "stdout"
        }
      ]
    },
    {
      "cell_type": "code",
      "metadata": {
        "colab": {
          "base_uri": "https://localhost:8080/"
        },
        "id": "-FATdRppAlIg",
        "outputId": "c17c2dba-00ff-4b0b-ee9b-bc8df21ba02e"
      },
      "source": [
        "#Calculate AUC \n",
        "from sklearn.metrics import roc_curve, auc\n",
        "fpr, tpr, treshold = roc_curve(y_test, prediction)\n",
        "roc_auc = auc(fpr, tpr)\n",
        "print(\"AUC: \",roc_auc)"
      ],
      "execution_count": 22,
      "outputs": [
        {
          "output_type": "stream",
          "text": [
            "AUC:  0.9023255813953488\n"
          ],
          "name": "stdout"
        }
      ]
    },
    {
      "cell_type": "code",
      "metadata": {
        "colab": {
          "base_uri": "https://localhost:8080/",
          "height": 334
        },
        "id": "E4FGt9LxBZJZ",
        "outputId": "b875ae63-2820-4694-a592-80774c886ced"
      },
      "source": [
        "import matplotlib.pyplot as plt\n",
        "plt.subplots(1, figsize=(5,5))\n",
        "plt.plot(fpr, tpr)\n",
        "plt.ylabel('True Positive Rate')\n",
        "plt.xlabel('False Positive Rate')\n",
        "plt.show()"
      ],
      "execution_count": 28,
      "outputs": [
        {
          "output_type": "display_data",
          "data": {
            "image/png": "[encoded data removed]",
            "text/plain": [
              "<Figure size 360x360 with 1 Axes>"
            ]
          },
          "metadata": {
            "tags": [],
            "needs_background": "light"
          }
        }
      ]
    },
    {
      "cell_type": "code",
      "metadata": {
        "colab": {
          "base_uri": "https://localhost:8080/"
        },
        "id": "mggbWK49A6qc",
        "outputId": "eed164d2-4ddf-494f-ff54-f6d16248b108"
      },
      "source": [
        "#Calculate log loss\n",
        "from sklearn.metrics import log_loss\n",
        "logloss= log_loss(y_test,prediction)\n",
        "print(\"Log Loss: \",logloss)"
      ],
      "execution_count": 24,
      "outputs": [
        {
          "output_type": "stream",
          "text": [
            "Log Loss:  1.2837421314922566\n"
          ],
          "name": "stdout"
        }
      ]
    },
    {
      "cell_type": "code",
      "metadata": {
        "id": "MsaLlfFsBy9g"
      },
      "source": [
        ""
      ],
      "execution_count": null,
      "outputs": []
    },
    {
      "cell_type": "code",
      "metadata": {
        "id": "D_0ZfCWGoAc7"
      },
      "source": [
        "#Naive Byes \n",
        "from sklearn.feature_extraction.text import CountVectorizer\n",
        "\n",
        "cv=CountVectorizer()\n",
        "\n",
        "x = data['message']\n",
        "y=data['class']\n"
      ],
      "execution_count": null,
      "outputs": []
    },
    {
      "cell_type": "code",
      "metadata": {
        "colab": {
          "base_uri": "https://localhost:8080/"
        },
        "id": "QmOkEjYxprP2",
        "outputId": "df0f76d5-6747-4b72-9e47-46f116067f83"
      },
      "source": [
        "x.shape\n"
      ],
      "execution_count": null,
      "outputs": [
        {
          "output_type": "execute_result",
          "data": {
            "text/plain": [
              "(11298,)"
            ]
          },
          "metadata": {
            "tags": []
          },
          "execution_count": 13
        }
      ]
    },
    {
      "cell_type": "code",
      "metadata": {
        "colab": {
          "base_uri": "https://localhost:8080/"
        },
        "id": "M1oETft-ptZt",
        "outputId": "25233552-3a74-4263-847e-2ef2d0336a0b"
      },
      "source": [
        "y.shape"
      ],
      "execution_count": null,
      "outputs": [
        {
          "output_type": "execute_result",
          "data": {
            "text/plain": [
              "(11298,)"
            ]
          },
          "metadata": {
            "tags": []
          },
          "execution_count": 14
        }
      ]
    },
    {
      "cell_type": "code",
      "metadata": {
        "id": "J7Pdgbt8pvTJ"
      },
      "source": [
        "x= cv.fit_transform(x)"
      ],
      "execution_count": null,
      "outputs": []
    },
    {
      "cell_type": "code",
      "metadata": {
        "colab": {
          "base_uri": "https://localhost:8080/"
        },
        "id": "BzgJiNCNpyfV",
        "outputId": "0d65b5da-76aa-45a6-a7fd-7549bae1d81c"
      },
      "source": [
        "x"
      ],
      "execution_count": null,
      "outputs": [
        {
          "output_type": "execute_result",
          "data": {
            "text/plain": [
              "<11298x41274 sparse matrix of type '<class 'numpy.int64'>'\n",
              "\twith 779626 stored elements in Compressed Sparse Row format>"
            ]
          },
          "metadata": {
            "tags": []
          },
          "execution_count": 16
        }
      ]
    },
    {
      "cell_type": "code",
      "metadata": {
        "id": "4-zV-Q6mqbiO"
      },
      "source": [
        "from sklearn.model_selection import train_test_split\n",
        "\n",
        "x_train,x_test,y_train,y_test= train_test_split(x,y,test_size=0.2)\n",
        "\n"
      ],
      "execution_count": null,
      "outputs": []
    },
    {
      "cell_type": "code",
      "metadata": {
        "colab": {
          "base_uri": "https://localhost:8080/"
        },
        "id": "PypRbMdjquOw",
        "outputId": "0997d698-ee88-4991-847b-5ba6fb84fe0d"
      },
      "source": [
        "x_train.shape"
      ],
      "execution_count": null,
      "outputs": [
        {
          "output_type": "execute_result",
          "data": {
            "text/plain": [
              "(9038, 41274)"
            ]
          },
          "metadata": {
            "tags": []
          },
          "execution_count": 18
        }
      ]
    },
    {
      "cell_type": "code",
      "metadata": {
        "colab": {
          "base_uri": "https://localhost:8080/"
        },
        "id": "CDuySQUqxYg8",
        "outputId": "99f21432-1bcc-4733-e926-a098c9829a69"
      },
      "source": [
        "y_train.shape"
      ],
      "execution_count": null,
      "outputs": [
        {
          "output_type": "execute_result",
          "data": {
            "text/plain": [
              "(9038,)"
            ]
          },
          "metadata": {
            "tags": []
          },
          "execution_count": 19
        }
      ]
    },
    {
      "cell_type": "code",
      "metadata": {
        "id": "XPiFneMpq3J7"
      },
      "source": [
        "from sklearn.naive_bayes import MultinomialNB"
      ],
      "execution_count": null,
      "outputs": []
    },
    {
      "cell_type": "code",
      "metadata": {
        "id": "D_Ftjq6tq-v1"
      },
      "source": [
        "model=MultinomialNB()"
      ],
      "execution_count": null,
      "outputs": []
    },
    {
      "cell_type": "code",
      "metadata": {
        "colab": {
          "base_uri": "https://localhost:8080/"
        },
        "id": "rwWUD08mrBvb",
        "outputId": "8429492c-ad92-4827-b50b-f7a6ff5eaa16"
      },
      "source": [
        "model.fit(x_train,y_train)"
      ],
      "execution_count": null,
      "outputs": [
        {
          "output_type": "execute_result",
          "data": {
            "text/plain": [
              "MultinomialNB(alpha=1.0, class_prior=None, fit_prior=True)"
            ]
          },
          "metadata": {
            "tags": []
          },
          "execution_count": 22
        }
      ]
    },
    {
      "cell_type": "code",
      "metadata": {
        "colab": {
          "base_uri": "https://localhost:8080/"
        },
        "id": "7C9BLBW-vDU7",
        "outputId": "a2227fdb-81fd-4b0c-9476-137cbcc254a1"
      },
      "source": [
        "model.score(x_test,y_test)"
      ],
      "execution_count": null,
      "outputs": [
        {
          "output_type": "execute_result",
          "data": {
            "text/plain": [
              "0.9367256637168142"
            ]
          },
          "metadata": {
            "tags": []
          },
          "execution_count": 23
        }
      ]
    },
    {
      "cell_type": "code",
      "metadata": {
        "id": "0U1hRCzyxgGU"
      },
      "source": [
        "import pickle"
      ],
      "execution_count": null,
      "outputs": []
    },
    {
      "cell_type": "code",
      "metadata": {
        "id": "O74WDfJaxkT1"
      },
      "source": [
        "pickle.dump(model, open(\"spam.pkl\",\"wb\"))"
      ],
      "execution_count": null,
      "outputs": []
    },
    {
      "cell_type": "code",
      "metadata": {
        "id": "RS27aMetxsnx"
      },
      "source": [
        "pickle.dump(cv, open(\"vectorizer.pkl\",\"wb\"))"
      ],
      "execution_count": null,
      "outputs": []
    },
    {
      "cell_type": "code",
      "metadata": {
        "id": "S9-b4W-Ux94z"
      },
      "source": [
        "data.to_csv('data.csv')"
      ],
      "execution_count": null,
      "outputs": []
    },
    {
      "cell_type": "code",
      "metadata": {
        "colab": {
          "base_uri": "https://localhost:8080/",
          "height": 129
        },
        "id": "Z8WHlIMcJbOZ",
        "outputId": "8be8e5fb-8cfc-4429-d98b-c8f69d93b2f3"
      },
      "source": [
        "import streamlit as st\n",
        "import pickle\n",
        "from sklearn.feature_extraction.text import CountVectorizer\n",
        "import numpy as np\n",
        "import smtplib\n",
        "import time\n",
        "import imaplib\n",
        "import email\n",
        "import traceback \n",
        "from bs4 import BeautifulSoup\n",
        "import csv\n",
        "from email import policy\n",
        "from datetime import datetime\n",
        "from win32com.client import Dispatch\n",
        "import requests\n",
        "\n",
        "\n",
        "\n",
        "ORG_EMAIL = \"@gmail.com\" \n",
        "FROM_EMAIL = \"clearedaccess\" + ORG_EMAIL \n",
        "FROM_PWD = \"clear.access123@@@\" \n",
        "SMTP_SERVER = \"imap.gmail.com\" \n",
        "SMTP_PORT = 993\n",
        "\n",
        "ll=[]\n",
        "full=[]\n",
        "\n",
        "def read_email_from_gmail():\n",
        "        mail = imaplib.IMAP4_SSL(SMTP_SERVER)\n",
        "        mail.login(FROM_EMAIL,FROM_PWD)\n",
        "        \n",
        "        mail.list()\n",
        "        mail.select('inbox')\n",
        "\n",
        "        n=0\n",
        "        (retcode, messages) = mail.search(None, '(UNSEEN)')\n",
        "        if retcode == 'OK':\n",
        "\n",
        "          for num in messages[0].split() :\n",
        "            print ('Processing ')\n",
        "            n=n+1\n",
        "            typ, data = mail.fetch(num,'(RFC822)')\n",
        "            for response_part in data:\n",
        "              if isinstance(response_part, tuple):\n",
        "                original = email.message_from_bytes(response_part[1])\n",
        "\n",
        "                raw_email = data[0][1]\n",
        "                raw_email_string = raw_email.decode('utf-8')\n",
        "                email_message = email.message_from_string(raw_email_string)\n",
        "              \n",
        "                for part in email_message.walk():\n",
        "                        if (part.get_content_type() == \"text/plain\"): # ignore attachments/html\n",
        "                              body = part.get_payload(decode=True)\n",
        "                              full.append([original['From'],original['Subject'],body.decode('utf-8') ])\n",
        "                              fin = str(original['Subject'])+\" : \"+ str(body.decode('utf-8'))\n",
        "                              ll.append([fin])\n",
        "                              print(ll)\n",
        "\t\t\t       \n",
        "                              \n",
        "                        else:\n",
        "                              continue\n",
        "                with open('forensic_files.csv','w') as files:\n",
        "                  csvwriter = csv.writer(files)\n",
        "                  csvwriter.writerow(['From','Subject','Body'])\n",
        "                  csvwriter.writerows(full)\n",
        "\n",
        "                typ, data = mail.store(num,'+FLAGS','\\\\Seen')\n",
        "\n",
        "                sd = ll\n",
        "                for i in sd:\n",
        "                  a = spam_not_spam(i)\n",
        "                  if a==1:\n",
        "                    mail.store(num,'+X-GM-LABELS','\\Spam')\n",
        "                    mail.store(num,'+FLAGS', '\\\\Deleted')\n",
        "\n",
        "        return ll\n",
        "\n",
        "def spam_not_spam(lst):\n",
        "  row=[]\n",
        "  vec=cv.transform(lst).toarray()\n",
        "  result=model.predict(vec)\n",
        "  if result[0]==0:\n",
        "    return 0\n",
        "  else:\n",
        "    return 1\n",
        "\t\t\t\n",
        "\n",
        "\n",
        "def speak(text):\n",
        "\tspeak=Dispatch((\"SAPI.SpVoice\"))\n",
        "\tspeak.Speak(text)\n",
        "\n",
        "\n",
        "model = pickle.load(open('spam.pkl','rb'))\n",
        "cv=pickle.load(open('vectorizer.pkl','rb'))\n",
        "\n",
        "def main():\n",
        "\tst.title(\"Email Spam Classification\")\n",
        "\tactivites=[\"Automatic Forensic Classification\",\"Manual Forensic Classification\"]\n",
        "\tchoices=st.sidebar.selectbox(\"Choose method\",activites)\n",
        "\tif choices==\"Automatic Forensic Classification\":\n",
        "\t\t\n",
        "\t\twhile(choices==\"Automatic Forensic Classification\"):\n",
        "\t\t\t\n",
        "\t\t\tnow = datetime.now()\n",
        "\t\t\tnw=now.strftime(\"%d %m %Y %H %M %S\")\n",
        "\t\t\tfilename='forensic_file_'+str(nw)+'.csv'\n",
        "\t\t\t\n",
        "\t\t\tlst=read_email_from_gmail()\n",
        "\t\t\trow=[]\n",
        "\t\t\tfor data in lst:\n",
        "\t\t\t\tprint(data)\n",
        "\t\t\t\tvec=cv.transform(data).toarray()\n",
        "\t\t\t\tresult=model.predict(vec)\n",
        "\t\t\t\tif result[0]==0:\n",
        "\t\t\t\t\tst.success(\"This is Not A Spam Email\")\n",
        "\t\t\t\t\trow.append([data,'Not Spam'])\n",
        "\t\t\t\telse:\n",
        "\t\t\t\t\tst.error(\"This is A Spam Email\")\n",
        "\t\t\t\t\t\n",
        "\t\t\t\t\trow.append([data,'Spam'])\n",
        "\t\t\t\t\t\n",
        "\t\t\tif len(row):\n",
        "\t\t\t\twith open(filename,'w') as csvfile:\n",
        "\t\t\t\t\tcsvwriter=csv.writer(csvfile)\n",
        "\t\t\t\t\tcsvwriter.writerow(['text','spam/not spam'])\n",
        "\t\t\t\t\tcsvwriter.writerows(row)\t\t\t\n",
        "    \n",
        "\n",
        "\telif choices==\"Manual Forensic Classification\":\n",
        "\t\tnow = datetime.now()\n",
        "\t\tnw=now.strftime(\"%d %m %Y %H %M %S\")\n",
        "\t\tfilename='forensic_file_'+str(nw)+'.csv'\n",
        "\t\tprint(\"Checking...\" + \"\\n\")\n",
        "\t\tprint(\"Click on Process to get results\")\n",
        "\t\tlst=[]\n",
        "\n",
        "\t\tif st.button(\"PROCESS\"):\n",
        "      \n",
        "\t\t\trow=[]\n",
        "\t\t\tlst=read_email_from_gmail()\n",
        "\t\t\tfor data in lst:\n",
        "\t\t\t\tprint(data)\n",
        "\t\t\t\tvec=cv.transform(data).toarray()\n",
        "\t\t\t\tresult=model.predict(vec)\n",
        "\t\t\t\tif result[0]==0:\n",
        "\t\t\t\t\tst.success(\"This is Not A Spam Email\")\n",
        "\t\t\t\t\trow.append([data,'Not Spam'])\n",
        "\t\n",
        "\t\t\t\telse:\n",
        "\t\t\t\t\tst.error(\"This is A Spam Email\")\n",
        "\t\t\t\t\trow.append([data,'Spam'])\n",
        "          \n",
        "\n",
        "\t\t\tif len(row):\n",
        "\t\t\t\twith open(filename,'w') as csvfile:\n",
        "          csvwriter=csv.writer(csvfile) \n",
        "          csvwriter.writerow(['text','spam/not spam'])\n",
        "\t\t\t\t\tcsvwriter.writerows(row)\n",
        "\t\t\t\n",
        "\t\t\t\n",
        "\t\t\n",
        "\t\tif st.button(\"RESET\"):\n",
        "\t\t\tst.empty()\n",
        "\t\t\tst.success(\"Click on Process to run again\")\n",
        "\t\t\t\n",
        "\t\t\n",
        "\t\n",
        "main()\n"
      ],
      "execution_count": null,
      "outputs": [
        {
          "output_type": "error",
          "ename": "IndentationError",
          "evalue": "ignored",
          "traceback": [
            "\u001b[0;36m  File \u001b[0;32m\"<ipython-input-57-8975fe16cdbf>\"\u001b[0;36m, line \u001b[0;32m157\u001b[0m\n\u001b[0;31m    csvwriter=csv.writer(csvfile)\u001b[0m\n\u001b[0m                                  ^\u001b[0m\n\u001b[0;31mIndentationError\u001b[0m\u001b[0;31m:\u001b[0m unindent does not match any outer indentation level\n"
          ]
        }
      ]
    },
    {
      "cell_type": "code",
      "metadata": {
        "id": "rq98nCsiyWzG",
        "colab": {
          "base_uri": "https://localhost:8080/",
          "height": 367
        },
        "outputId": "672a95ed-5b51-4861-a694-b43692617bab"
      },
      "source": [
        "import streamlit as st\n",
        "import pickle\n",
        "from sklearn.feature_extraction.text import CountVectorizer\n",
        "import numpy as np\n",
        "import smtplib\n",
        "import time\n",
        "import imaplib\n",
        "import email\n",
        "import traceback \n",
        "from bs4 import BeautifulSoup\n",
        "import csv\n",
        "from email import policy\n",
        "from datetime import datetime\n",
        "from win32com.client import Dispatch\n",
        "import requests\n",
        "import json\n",
        "\n",
        "url = \"https://www.fast2sms.com/dev/bulk\"\n",
        "\n",
        "headers = {\n",
        "'authorization': \"yAjeClukhD2MGx093RNobUwnLdrmp5ZJKsvB1QaPtfzVSIiO4qVBpJHqFYfSvOci4htoxar3wGP9KNXZ\",\n",
        "'Content-Type': \"application/x-www-form-urlencoded\",\n",
        "'Cache-Control': \"no-cache\",\n",
        "}\n",
        "\n",
        "\n",
        "ORG_EMAIL = \"@gmail.com\" \n",
        "FROM_EMAIL = \"clearedaccess\" + ORG_EMAIL \n",
        "FROM_PWD = \"clear.access123@@@\" \n",
        "SMTP_SERVER = \"imap.gmail.com\" \n",
        "SMTP_PORT = 993\n",
        "\n",
        "ll=[]\n",
        "full=[]\n",
        "\n",
        "def read_email_from_gmail():\n",
        "        mail = imaplib.IMAP4_SSL(SMTP_SERVER)\n",
        "        mail.login(FROM_EMAIL,FROM_PWD)\n",
        "        \n",
        "        mail.list()\n",
        "        mail.select('inbox')\n",
        "\n",
        "        n=0\n",
        "        (retcode, messages) = mail.search(None, '(UNSEEN)')\n",
        "        if retcode == 'OK':\n",
        "\n",
        "          for num in messages[0].split() :\n",
        "            print ('Processing ')\n",
        "            n=n+1\n",
        "            typ, data = mail.fetch(num,'(RFC822)')\n",
        "            for response_part in data:\n",
        "              if isinstance(response_part, tuple):\n",
        "                original = email.message_from_bytes(response_part[1])\n",
        "\n",
        "                raw_email = data[0][1]\n",
        "                raw_email_string = raw_email.decode('utf-8')\n",
        "                email_message = email.message_from_string(raw_email_string)\n",
        "              \n",
        "                for part in email_message.walk():\n",
        "                        if (part.get_content_type() == \"text/plain\"): # ignore attachments/html\n",
        "                              body = part.get_payload(decode=True)\n",
        "                              full.append([original['From'],original['Subject'],body.decode('utf-8') ])\n",
        "                              fin = str(original['Subject'])+\" : \"+ str(body.decode('utf-8'))\n",
        "                              ll.append([fin])\n",
        "                              print(fin)\n",
        "\n",
        "                        else:\n",
        "                              continue\n",
        "                with open('forensic_files.csv','w') as files:\n",
        "                  csvwriter = csv.writer(files)\n",
        "                  csvwriter.writerow(['From','Subject','Body'])\n",
        "                  csvwriter.writerows(full)\n",
        "\n",
        "                typ, data = mail.store(num,'+FLAGS','\\\\Seen')\n",
        "                mail.store(num, '+X-GM-LABELS', '(Spam)')\n",
        "                my_data={'sender_id':'FSTSMS', 'message':'ALERT:'+data,'language':'english','route':'p','numbers':'9158074343'}\n",
        "                response = requests.request(\"POST\",url,data = my_data,headers = headers)\n",
        "                    \n",
        "\n",
        "                \n",
        "        return ll\n",
        "\n",
        "def spam_not_spam(lst):\n",
        "  row=[]\n",
        "  vec=cv.transform(lst).toarray()\n",
        "  result=model.predict(vec)\n",
        "  if result[0]==0:\n",
        "    return 0\n",
        "  else:\n",
        "    return 1\n",
        "\t\t\t\n",
        "\n",
        "\n",
        "def speak(text):\n",
        "\tspeak=Dispatch((\"SAPI.SpVoice\"))\n",
        "\tspeak.Speak(text)\n",
        "\n",
        "\n",
        "model = pickle.load(open('spam.pkl','rb'))\n",
        "cv=pickle.load(open('vectorizer.pkl','rb'))\n",
        "\n",
        "\n",
        "def main():\n",
        "\tst.title(\"Email Spam Classification\")\n",
        "\tactivites=[\"Automatic Forensic Classification\",\"Manual Forensic Classification\"]\n",
        "\tchoices=st.sidebar.selectbox(\"Choose method\",activites)\n",
        "\tif choices==\"Automatic Forensic Classification\":\n",
        "\t\t\n",
        "\t\twhile(choices==\"Automatic Forensic Classification\"):\n",
        "\t\t\t\n",
        "\t\t\tnow = datetime.now()\n",
        "\t\t\tnw=now.strftime(\"%d %m %Y %H %M %S\")\n",
        "\t\t\tfilename='forensic_file_'+str(nw)+'.csv'\n",
        "\t\t\tlst=read_email_from_gmail()\n",
        "\t\t\trow=[]\n",
        "\t\t\tfor data in lst:\n",
        "\t\t\t\tprint(data)\n",
        "\t\t\t\tvec=cv.transform(data).toarray()\n",
        "\t\t\t\tresult=model.predict(vec)\n",
        "\t\t\t\tif result[0]==0:\n",
        "\t\t\t\t\tst.success(\"This is Not A Spam Email\")\n",
        "\t\t\t\t\t#row.append([data,'Not Spam'])\n",
        "\t\t\t\telse:\n",
        "\t\t\t\t\tst.error(\"This is A Spam Email\")\n",
        "\t\t\t\t\trow.append([data,'Spam'])\n",
        "\t\t\t\t\t\n",
        "\t\t\tif len(row):\n",
        "\t\t\t\twith open(filename,'w') as csvfile:\n",
        "\t\t\t\t\tcsvwriter=csv.writer(csvfile)\n",
        "\t\t\t\t\tcsvwriter.writerow(['text','spam/not spam'])\n",
        "\t\t\t\t\tcsvwriter.writerows(row)\t\t\t\n",
        "\t\t\t\n",
        "\t\t\n",
        "\n",
        "\telif choices==\"Manual Forensic Classification\":\n",
        "\t\tnow = datetime.now()\n",
        "\t\tnw=now.strftime(\"%d %m %Y %H %M %S\")\n",
        "\t\tfilename='forensic_file_'+str(nw)+'.csv'\n",
        "\t\tprint(\"Checking...\" + \"\\n\")\n",
        "\t\tprint(\"Click on Process to get results\")\n",
        "\t\tlst=[]\n",
        "\t\t\n",
        "\n",
        "\t\tif st.button(\"PROCESS\"):\n",
        "\t\t\trow=[]\n",
        "\t\t\tlst=read_email_from_gmail()\n",
        "\t\t\tfor data in lst:\n",
        "\t\t\t\tprint(data)\n",
        "\t\t\t\tvec=cv.transform(data).toarray()\n",
        "\t\t\t\tresult=model.predict(vec)\n",
        "\t\t\t\tif result[0]==0:\n",
        "\t\t\t\t\tst.success(\"This is Not A Spam Email\")\n",
        "\t\t\t\t\trow.append([data,'Not Spam'])\n",
        "\t\n",
        "\t\t\t\telse:\n",
        "\t\t\t\t\tst.error(\"This is A Spam Email\")\n",
        "\t\t\t\t\trow.append([data,'Spam'])\n",
        "\t\t\t\t\t\n",
        "\n",
        "\t\t\tif len(row):\n",
        "\t\t\t\twith open(filename,'w') as csvfile:\n",
        "\t\t\t\t\tcsvwriter=csv.writer(csvfile)\n",
        "\t\t\t\t\tcsvwriter.writerow(['text','spam/not spam'])\n",
        "\t\t\t\t\tcsvwriter.writerows(row)\n",
        "\t\t\t\n",
        "\t\t\t\n",
        "\t\t\n",
        "\t\tif st.button(\"RESET\"):\n",
        "\t\t\tst.empty()\n",
        "\t\t\tst.success(\"Click on Process to run again\")\n",
        "\t\t\t\n",
        "\t\t\n",
        "\t\n",
        "main()"
      ],
      "execution_count": null,
      "outputs": [
        {
          "output_type": "error",
          "ename": "ModuleNotFoundError",
          "evalue": "ignored",
          "traceback": [
            "\u001b[0;31m---------------------------------------------------------------------------\u001b[0m",
            "\u001b[0;31mModuleNotFoundError\u001b[0m                       Traceback (most recent call last)",
            "\u001b[0;32m<ipython-input-1-840626ab2972>\u001b[0m in \u001b[0;36m<module>\u001b[0;34m()\u001b[0m\n\u001b[0;32m----> 1\u001b[0;31m \u001b[0;32mimport\u001b[0m \u001b[0mstreamlit\u001b[0m \u001b[0;32mas\u001b[0m \u001b[0mst\u001b[0m\u001b[0;34m\u001b[0m\u001b[0;34m\u001b[0m\u001b[0m\n\u001b[0m\u001b[1;32m      2\u001b[0m \u001b[0;32mimport\u001b[0m \u001b[0mpickle\u001b[0m\u001b[0;34m\u001b[0m\u001b[0;34m\u001b[0m\u001b[0m\n\u001b[1;32m      3\u001b[0m \u001b[0;32mfrom\u001b[0m \u001b[0msklearn\u001b[0m\u001b[0;34m.\u001b[0m\u001b[0mfeature_extraction\u001b[0m\u001b[0;34m.\u001b[0m\u001b[0mtext\u001b[0m \u001b[0;32mimport\u001b[0m \u001b[0mCountVectorizer\u001b[0m\u001b[0;34m\u001b[0m\u001b[0;34m\u001b[0m\u001b[0m\n\u001b[1;32m      4\u001b[0m \u001b[0;32mimport\u001b[0m \u001b[0mnumpy\u001b[0m \u001b[0;32mas\u001b[0m \u001b[0mnp\u001b[0m\u001b[0;34m\u001b[0m\u001b[0;34m\u001b[0m\u001b[0m\n\u001b[1;32m      5\u001b[0m \u001b[0;32mimport\u001b[0m \u001b[0msmtplib\u001b[0m\u001b[0;34m\u001b[0m\u001b[0;34m\u001b[0m\u001b[0m\n",
            "\u001b[0;31mModuleNotFoundError\u001b[0m: No module named 'streamlit'",
            "",
            "\u001b[0;31m---------------------------------------------------------------------------\u001b[0;32m\nNOTE: If your import is failing due to a missing package, you can\nmanually install dependencies using either !pip or !apt.\n\nTo view examples of installing some common dependencies, click the\n\"Open Examples\" button below.\n\u001b[0;31m---------------------------------------------------------------------------\u001b[0m\n"
          ]
        }
      ]
    },
    {
      "cell_type": "code",
      "metadata": {
        "id": "HtwvQbsLZgpR"
      },
      "source": [
        "response = requests.request(\"POST\",url,data = my_data,headers = headers)"
      ],
      "execution_count": null,
      "outputs": []
    },
    {
      "cell_type": "code",
      "metadata": {
        "id": "yjosVGII4VeM",
        "colab": {
          "base_uri": "https://localhost:8080/"
        },
        "outputId": "f8f464f1-de23-4ba1-9063-ecf403ba1c98"
      },
      "source": [
        "\n",
        "!python -m tabnanny spamDetector.py\n"
      ],
      "execution_count": null,
      "outputs": [
        {
          "output_type": "stream",
          "text": [
            "spamDetector.py 157 '          \\t\\t\\t\\tcsvwriter=csv.writer(csvfile) \\n'\n"
          ],
          "name": "stdout"
        }
      ]
    },
    {
      "cell_type": "code",
      "metadata": {
        "id": "3Feu6NPWLEgI"
      },
      "source": [
        ""
      ],
      "execution_count": null,
      "outputs": []
    }
  ]
}